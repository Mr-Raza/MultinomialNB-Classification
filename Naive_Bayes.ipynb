{
 "cells": [
  {
   "cell_type": "code",
   "execution_count": 1,
   "metadata": {},
   "outputs": [],
   "source": [
    "import pandas as pd\n",
    "import numpy as np\n",
    "import warnings\n",
    "warnings.filterwarnings('ignore')"
   ]
  },
  {
   "cell_type": "code",
   "execution_count": 2,
   "metadata": {},
   "outputs": [],
   "source": [
    "df=pd.read_csv('bbc-text.csv')\n",
    "X=(df.iloc[:,1:])\n",
    "y=df.iloc[:,0]"
   ]
  },
  {
   "cell_type": "code",
   "execution_count": 3,
   "metadata": {},
   "outputs": [],
   "source": [
    "X['text']=X['text'].str.lower()"
   ]
  },
  {
   "cell_type": "code",
   "execution_count": 4,
   "metadata": {},
   "outputs": [],
   "source": [
    "X['text']=X['text'].str.replace(\"(@\\[A-Za-z0-9]+)|([^0-9A-Za-z \\t])|(\\w+:\\/\\/\\S+)|^rt|http.+?\", \"\")"
   ]
  },
  {
   "cell_type": "code",
   "execution_count": 5,
   "metadata": {},
   "outputs": [],
   "source": [
    "import nltk\n",
    "from nltk.corpus import stopwords\n",
    "stop_words=stopwords.words('english')\n",
    "X['text']=X['text'].apply(lambda x: ' '.join([word for word in x.split() if word not in (stop_words)]))"
   ]
  },
  {
   "cell_type": "code",
   "execution_count": 6,
   "metadata": {},
   "outputs": [
    {
     "data": {
      "text/plain": [
       "0       [tv, future, hands, viewers, home, theatre, sy...\n",
       "1       [worldcom, boss, left, books, alone, former, w...\n",
       "2       [tigers, wary, farrell, gamble, leicester, say...\n",
       "3       [yeading, face, newcastle, fa, cup, premiershi...\n",
       "4       [ocean, twelve, raids, box, office, ocean, twe...\n",
       "                              ...                        \n",
       "2220    [cars, pull, us, retail, figures, us, retail, ...\n",
       "2221    [kilroy, unveils, immigration, policy, exchats...\n",
       "2222    [rem, announce, new, glasgow, concert, us, ban...\n",
       "2223    [political, squabbles, snowball, become, commo...\n",
       "2224    [souness, delight, euro, progress, boss, graem...\n",
       "Name: text, Length: 2225, dtype: object"
      ]
     },
     "execution_count": 6,
     "metadata": {},
     "output_type": "execute_result"
    }
   ],
   "source": [
    "from nltk.tokenize import word_tokenize\n",
    "X['text'] = X['text'].apply(nltk.word_tokenize)\n",
    "X['text']"
   ]
  },
  {
   "cell_type": "code",
   "execution_count": 7,
   "metadata": {},
   "outputs": [
    {
     "data": {
      "text/plain": [
       "0       [tv, futur, hand, viewer, home, theatr, system...\n",
       "1       [worldcom, boss, left, book, alon, former, wor...\n",
       "2       [tiger, wari, farrel, gambl, leicest, say, rus...\n",
       "3       [yead, face, newcastl, fa, cup, premiership, s...\n",
       "4       [ocean, twelv, raid, box, offic, ocean, twelv,...\n",
       "                              ...                        \n",
       "2220    [car, pull, us, retail, figur, us, retail, sal...\n",
       "2221    [kilroy, unveil, immigr, polici, exchatshow, h...\n",
       "2222    [rem, announc, new, glasgow, concert, us, band...\n",
       "2223    [polit, squabbl, snowbal, becom, commonplac, a...\n",
       "2224    [souness, delight, euro, progress, boss, graem...\n",
       "Name: text, Length: 2225, dtype: object"
      ]
     },
     "execution_count": 7,
     "metadata": {},
     "output_type": "execute_result"
    }
   ],
   "source": [
    "from nltk.stem.snowball import SnowballStemmer\n",
    "snow_stemmer = SnowballStemmer(language='english')\n",
    "X['text']=X['text'].apply(lambda x: [snow_stemmer.stem(y) for y in x])\n",
    "X['text']"
   ]
  },
  {
   "cell_type": "code",
   "execution_count": 8,
   "metadata": {},
   "outputs": [],
   "source": [
    "from sklearn.model_selection import train_test_split\n",
    "X_train, X_test, y_train, y_test = train_test_split(X, y, random_state=42, test_size=0.30)"
   ]
  },
  {
   "cell_type": "code",
   "execution_count": 9,
   "metadata": {},
   "outputs": [],
   "source": [
    "from sklearn.feature_extraction.text import CountVectorizer\n",
    "co = CountVectorizer( analyzer=lambda x: x)\n",
    "X_train_N= co.fit(X_train['text'])\n",
    "#X_train_N.vocabulary_"
   ]
  },
  {
   "cell_type": "code",
   "execution_count": 10,
   "metadata": {},
   "outputs": [],
   "source": [
    "X_train_NT=co.transform(X_train['text'])"
   ]
  },
  {
   "cell_type": "code",
   "execution_count": 11,
   "metadata": {},
   "outputs": [],
   "source": [
    "X_test_NT=co.transform(X_test['text'])"
   ]
  },
  {
   "cell_type": "code",
   "execution_count": 12,
   "metadata": {},
   "outputs": [],
   "source": [
    "from sklearn.feature_extraction.text import TfidfTransformer\n",
    "tf=TfidfTransformer().fit(X_train_NT)\n",
    "X_train_NTF=tf.transform(X_train_NT)"
   ]
  },
  {
   "cell_type": "code",
   "execution_count": 13,
   "metadata": {},
   "outputs": [
    {
     "name": "stdout",
     "output_type": "stream",
     "text": [
      "               precision    recall  f1-score   support\n",
      "\n",
      "     business       0.96      0.94      0.95       164\n",
      "entertainment       1.00      0.88      0.93       113\n",
      "     politics       0.87      0.99      0.93       113\n",
      "        sport       0.98      0.99      0.99       146\n",
      "         tech       0.97      0.97      0.97       132\n",
      "\n",
      "     accuracy                           0.96       668\n",
      "    macro avg       0.96      0.95      0.95       668\n",
      " weighted avg       0.96      0.96      0.96       668\n",
      "\n"
     ]
    }
   ],
   "source": [
    "from sklearn.naive_bayes import MultinomialNB\n",
    "model=MultinomialNB().fit(X_train_NTF,y_train)\n",
    "pre=model.predict(X_test_NT)\n",
    "from sklearn.metrics import classification_report,confusion_matrix\n",
    "print(classification_report(y_test,pre))"
   ]
  },
  {
   "cell_type": "code",
   "execution_count": 14,
   "metadata": {},
   "outputs": [
    {
     "name": "stdout",
     "output_type": "stream",
     "text": [
      "[[154   0   9   0   1]\n",
      " [  4  99   7   0   3]\n",
      " [  1   0 112   0   0]\n",
      " [  0   0   1 145   0]\n",
      " [  1   0   0   3 128]]\n"
     ]
    },
    {
     "data": {
      "image/png": "[encoded data removed]",
      "text/plain": [
       "<Figure size 864x720 with 2 Axes>"
      ]
     },
     "metadata": {
      "needs_background": "light"
     },
     "output_type": "display_data"
    }
   ],
   "source": [
    "import matplotlib.pyplot as plt\n",
    "import seaborn as sns\n",
    "cm=confusion_matrix(y_test,pre)\n",
    "plt.figure(figsize = (12,10))\n",
    "ax = sns.heatmap(cm, annot=True, fmt='g');\n",
    "ax.set_title('Seaborn Confusion Matrix with labels');\n",
    "ax.set_xlabel('Predicted Topic')\n",
    "ax.set_ylabel('Actual Topic');\n",
    "ax.xaxis.set_ticklabels(['business', 'entertainment', 'politics','sport','tech'])\n",
    "ax.yaxis.set_ticklabels(['business', 'entertainment', 'politics','sport','tech'])\n",
    "print(cm)"
   ]
  }
 ],
 "metadata": {
  "kernelspec": {
   "display_name": "Python 3",
   "language": "python",
   "name": "python3"
  },
  "language_info": {
   "codemirror_mode": {
    "name": "ipython",
    "version": 3
   },
   "file_extension": ".py",
   "mimetype": "text/x-python",
   "name": "python",
   "nbconvert_exporter": "python",
   "pygments_lexer": "ipython3",
   "version": "3.6.10"
  }
 },
 "nbformat": 4,
 "nbformat_minor": 4
}
